{
 "cells": [
  {
   "cell_type": "code",
   "execution_count": 1,
   "metadata": {},
   "outputs": [],
   "source": [
    "import matplotlib.pyplot as plt\n",
    "import numpy as np\n",
    "%matplotlib widget\n",
    "import time\n",
    "import itk\n",
    "from itkwidgets import view"
   ]
  },
  {
   "cell_type": "markdown",
   "metadata": {},
   "source": [
    "need to exchange y and x coordinates\n",
    "spacing need to change to  ([0.677734, 0.677734, 0.5])"
   ]
  },
  {
   "cell_type": "code",
   "execution_count": 2,
   "metadata": {},
   "outputs": [],
   "source": [
    "# generating image matrix\n",
    "def index_matrix():\n",
    "    index_matrix=np.zeros((512,512,768))\n",
    "    return index_matrix\n",
    "    "
   ]
  },
  {
   "cell_type": "code",
   "execution_count": 3,
   "metadata": {},
   "outputs": [],
   "source": [
    "#find out origins"
   ]
  },
  {
   "cell_type": "code",
   "execution_count": 4,
   "metadata": {},
   "outputs": [],
   "source": [
    "def seed_generation():\n",
    "    #set starting seed at trechea\n",
    "    mu = 6 #\n",
    "    sigma = 2 \n",
    "    rand_pos = np.random.normal(mu, sigma, 3)\n",
    "    seed=np.array([int(rand_pos[0]),int(rand_pos[1]),30])\n",
    "    return seed"
   ]
  },
  {
   "cell_type": "code",
   "execution_count": 5,
   "metadata": {},
   "outputs": [],
   "source": [
    "index_mat=index_matrix()"
   ]
  },
  {
   "cell_type": "code",
   "execution_count": 6,
   "metadata": {},
   "outputs": [],
   "source": [
    "seed=seed_generation()"
   ]
  },
  {
   "cell_type": "code",
   "execution_count": 7,
   "metadata": {},
   "outputs": [],
   "source": [
    "def parameter_generation(cl_mean,cl_sig,r_mean,r_sig,phi_min,phi_max,theta_min,theta_max):\n",
    "    cl=np.random.normal(cl_mean,cl_sig)\n",
    "    if cl<0:\n",
    "        cl=0\n",
    "    r=np.random.normal(r_mean,r_sig)\n",
    "    phi=np.random.randint(phi_min,phi_max)/180*np.pi\n",
    "    theta=np.random.randint(theta_min,theta_max)/180*np.pi\n",
    "    return np.array([cl,r,phi,theta])"
   ]
  },
  {
   "cell_type": "code",
   "execution_count": 8,
   "metadata": {},
   "outputs": [],
   "source": [
    "def normalized_parameter_generation(cl_mean,cl_sig,rn_mean,rn_sig,phi_min,phi_max,theta_min,theta_max,Trachea_r,limit=[0,0]):\n",
    "    cl=np.random.normal(cl_mean,cl_sig)\n",
    "    if cl<0:\n",
    "        cl=0\n",
    "    r=np.random.normal(rn_mean,rn_sig)*Trachea_r*0.8\n",
    "    phi=np.random.randint(phi_min,phi_max)/180*np.pi\n",
    "    theta=np.random.randint(theta_min,theta_max)/180*np.pi\n",
    "    if limit[1] >0:\n",
    "        r=min(limit[1],r)\n",
    "    return np.array([cl,r,phi,theta])"
   ]
  },
  {
   "cell_type": "code",
   "execution_count": null,
   "metadata": {},
   "outputs": [],
   "source": []
  },
  {
   "cell_type": "code",
   "execution_count": 9,
   "metadata": {},
   "outputs": [],
   "source": [
    "trachea=parameter_generation(109,14,23.9,2.9,-180,180,0,5)## radius needed and centerline length needed\n",
    "R=trachea[1]\n",
    "# rm=parameter_generation(25.5,2.5,20,2.6,175,195,30,45)\n",
    "# ru=parameter_generation(15,4,14.5,4,180,210,135,150)\n",
    "# br=parameter_generation(29,3,15.65,2.25,175,195,30,45)\n",
    "# r45=parameter_generation(19,4,10.3,2.16,180,225,60,90)\n",
    "# r6=parameter_generation(10,4,9.8,3.3,105,145,60,90)\n",
    "# rl7=parameter_generation(10.5,3.25,12.1,1.85,175,195,20,40)\n",
    "# r7=parameter_generation(16,5,7.74,1.23,-105,-30,30,45)\n",
    "# rl=parameter_generation(10,4,11,1.8,175,195,20,40)\n",
    "# r8=parameter_generation(12.5,1.5,8.5,1.33,195,255,45,60)\n",
    "# r910=parameter_generation(11,3.5,10,2.75,175,195,20,40)\n",
    "# r9=parameter_generation(15,3.5,7.56,1.4,175,195,20,45)\n",
    "# r10=parameter_generation(13,3.5,8.54,1.76,-30,30,0,45)\n",
    "# r1=parameter_generation(13,3.5,8.8,3.14,-90,180,150,180)\n",
    "# r2=parameter_generation(11,3,8.6,2,90,150,75,120)\n",
    "# r3=parameter_generation(12,3.75,9.7,1.8,150,270,80,120)\n",
    "# r4=parameter_generation(12.5,4,7.71,1.33,150,180,60,90)\n",
    "# r5=parameter_generation(14,4,8.25,1.4,195,225,60,90)\n",
    "\n",
    "# lm=parameter_generation(50,5,17,2.4,-15,5,30,45)\n",
    "# lu=parameter_generation(13,3,14.5,3.2,-45,0,135,150)\n",
    "# ll6=parameter_generation(12.5,2.5,15,3,-15,5,30,45)\n",
    "# l6=parameter_generation(10,2.8,10.8,2.8,55,105,50,90)\n",
    "# ll=parameter_generation(17,4,12.1,1.54,-15,5,30,45)\n",
    "# l8=parameter_generation(12.5,4,9.18,1.67,-75,5,45,60)\n",
    "# l910=parameter_generation(10,3,10.86,1.87,-25,5,15,45)\n",
    "# l9=parameter_generation(15,4.75,8.32,1.55,5,25,10,45)#cl=15\n",
    "# l10=parameter_generation(15,4.75,8.92,1.54,5,25,10,45)#cl=15\n",
    "# l123=parameter_generation(11.5,3,12,2.82,-90,90,160,180)\n",
    "# l12=parameter_generation(11,3.5,9.2,2.55,120,240,120,180)\n",
    "# l1=parameter_generation(13,3.5,7.54,1.32,90,150,150,180)\n",
    "# l2=parameter_generation(12.5,3,6.74,1.4,150,210,150,180)\n",
    "# l3=parameter_generation(10,3,9.13,1.53,-60,60,120,150)\n",
    "# l45=parameter_generation(14,5,10.56,3.62,-15,30,60,75)\n",
    "# l4=parameter_generation(12.5,5,7.6,1.73,-15,30,60,75)\n",
    "# l5=parameter_generation(12.5,7.5,1.29,5,15,30,45,60)"
   ]
  },
  {
   "cell_type": "code",
   "execution_count": 10,
   "metadata": {},
   "outputs": [],
   "source": [
    "rm=normalized_parameter_generation(25.5,2.5,0.84,0.13,175,195,30,35,R)\n",
    "ru=normalized_parameter_generation(15,4,0.59,0.17,180,210,135,150,R,rm)\n",
    "br=normalized_parameter_generation(29,3,0.653,0.11,175,195,30,45,R,rm)\n",
    "r45=normalized_parameter_generation(19,4,0.38,0.09,180,225,60,90,R,br)\n",
    "r6=normalized_parameter_generation(10,4,0.36,0.1,105,145,60,90,R,br)\n",
    "rl7=normalized_parameter_generation(10.5,3.25,0.463,0.08,175,195,20,40,R,br)\n",
    "r7=normalized_parameter_generation(16,5,0.27,0.06,-105,-30,30,45,R,rl7)\n",
    "rl=normalized_parameter_generation(10,4,0.41,0.1,175,195,20,40,R,rl7)\n",
    "r8=normalized_parameter_generation(12.5,1.5,0.296,0.073,195,255,45,60,R)\n",
    "r910=normalized_parameter_generation(11,3.5,0.366,0.083,175,195,20,40,R,rl)\n",
    "r9=normalized_parameter_generation(15,3.5,0.262,0.06,175,195,20,45,R,r910)\n",
    "r10=normalized_parameter_generation(13,3.5,3.03,0.074,-30,30,0,45,R,r910)\n",
    "r1=normalized_parameter_generation(13,3.5,0.33,0.06,-90,180,150,180,R,ru)\n",
    "r2=normalized_parameter_generation(11,3,0.31,0.061,90,150,75,120,R,ru)\n",
    "r3=normalized_parameter_generation(12,3.75,0.35,0.096,200,300,80,120,R,ru)\n",
    "r4=normalized_parameter_generation(12.5,4,0.27,0.07,150,180,60,90,R,r45)\n",
    "r5=normalized_parameter_generation(14,4,0.29,0.06,195,225,60,90,R,r45)\n",
    "\n",
    "lm=normalized_parameter_generation(50,5,0.7,0.11,-15,5,30,35,R)\n",
    "lu=normalized_parameter_generation(13,3,0.58,0.18,-45,0,135,150,R,lm)\n",
    "ll6=normalized_parameter_generation(12.5,2.5,0.6,0.13,-15,5,30,45,R,lm)\n",
    "l6=normalized_parameter_generation(10,2.8,0.41,0.15,55,105,50,90,R,ll6)\n",
    "ll=normalized_parameter_generation(17,4,0.47,0.1,-15,5,30,45,R,ll6)\n",
    "l8=normalized_parameter_generation(12.5,4,0.32,0.07,-75,5,45,60,R,ll)\n",
    "l910=normalized_parameter_generation(10,3,0.42,0.1,-25,5,15,45,R,ll)\n",
    "l9=normalized_parameter_generation(15,4.75,0.3,0.075,-35,0,20,45,R,l910)#cl=15\n",
    "l10=normalized_parameter_generation(15,4.75,0.32,0.075,5,25,20,45,R,l910)#cl=15\n",
    "l123=normalized_parameter_generation(11.5,3,0.454,0.125,-90,90,160,180,R,lu)\n",
    "l12=normalized_parameter_generation(11,3.5,0.33,0.1,120,240,120,180,R,l123)\n",
    "l1=normalized_parameter_generation(13,3.5,0.263,0.08,90,150,150,180,R,l12)\n",
    "l2=normalized_parameter_generation(12.5,3,0.225,0.06,150,210,150,180,R,l12)\n",
    "l3=normalized_parameter_generation(10,3,0.33,0.09,-60,60,120,150,R,l123)\n",
    "l45=normalized_parameter_generation(14,5,0.40,0.1,-15,30,60,75,R,lu,)\n",
    "l4=normalized_parameter_generation(12.5,5,0.264,0.05,-15,30,60,75,R,l45)\n",
    "l5=normalized_parameter_generation(12.5,3.5,0.26,0.06,15,30,45,60,R,l45)\n"
   ]
  },
  {
   "cell_type": "code",
   "execution_count": 11,
   "metadata": {},
   "outputs": [],
   "source": [
    "def main_branch_generation(seed,index_matrix,branch,base=[0,0,0,0],label=1000,vanish=1,bifurcate=1):\n",
    "    length=int(branch[0]*2)\n",
    "    phi=branch[2]\n",
    "    theta=branch[3]\n",
    "    base_r=int(base[1])\n",
    "    x=np.zeros((length))\n",
    "    y=np.zeros((length))\n",
    "    z=np.zeros((length))\n",
    "    x1=x\n",
    "    y1=y\n",
    "    z1=z\n",
    "    line=np.zeros((length))\n",
    "    line1=line\n",
    "    prob_v=np.random.binomial(1,vanish,1)[0]\n",
    "    prob_b=np.random.binomial(1,bifurcate,1)[0]\n",
    "    for i in range (0,length):\n",
    "        x[i]=int((base_r+i)*np.sin(theta)*np.cos(phi))+seed[0]\n",
    "        y[i]=int((base_r+i)*np.sin(theta)*np.sin(phi))+seed[1]\n",
    "        z[i]=int((base_r+i)*np.cos(theta))+seed[2]\n",
    "        line[i]=label\n",
    "        index_matrix[int(x[i])+256,int(y[i])+256,int(z[i])]=line[i]\n",
    "        if prob_v==0:\n",
    "            index_matrix[int(x[i])+256,int(y[i])+256,int(z[i])]=0\n",
    "    end=len(x)-1\n",
    "    end=np.array([x[end],y[end],z[end]])\n",
    "    if prob_v==0:\n",
    "        end=seed\n",
    "    if prob_b==0:\n",
    "        theta1=theta+np.random.randint(15,30)/180*np.pi\n",
    "        for j in range (0,length):\n",
    "            x1[j]=int((base_r+j)*np.sin(theta1)*np.cos(phi))+seed[0]\n",
    "            y1[j]=int((base_r+j)*np.sin(theta1)*np.sin(phi))+seed[1]\n",
    "            z1[j]=int((base_r+j)*np.cos(theta1))+seed[2]\n",
    "            line1[j]=label\n",
    "            index_matrix[int(x1[j])+256,int(y1[j])+256,int(z1[j])]=line1[j]\n",
    "        x=np.hstack((x,x1))\n",
    "        y=np.hstack((y,y1))\n",
    "        z=np.hstack((z,z1))\n",
    "    return index_matrix,end,x,y,z,theta"
   ]
  },
  {
   "cell_type": "code",
   "execution_count": 12,
   "metadata": {},
   "outputs": [],
   "source": [
    "def s_branch_generation (index_matrix,f_branch,seed,label=2000):\n",
    "    length_factor=np.random.normal(10,2,2)/10\n",
    "    radius_factor=np.random.randint(6,9)/10\n",
    "    theta=f_branch[3]+np.random.randint(15,22)/180*np.pi\n",
    "    phi_1=np.random.randint(7,15)/180+f_branch[2]\n",
    "    phi_2=-np.random.randint(7,15)/180+f_branch[2]\n",
    "    length_1=int(length_factor[0]*f_branch[0]*2)\n",
    "    length_2=int(length_factor[1]*f_branch[0]*2)\n",
    "\n",
    "    x=np.zeros((length_1))\n",
    "    y=np.zeros((length_1))\n",
    "    z=np.zeros((length_1))\n",
    "    x1=np.zeros((length_2))\n",
    "    y1=np.zeros((length_2))\n",
    "    z1=np.zeros((length_2))\n",
    "    for i in range (0,length_1):\n",
    "        x[i]=int((f_branch[1]+i)*np.sin(theta)*np.cos(phi_1))+seed[0]\n",
    "        y[i]=int((f_branch[1]+i)*np.sin(theta)*np.sin(phi_1))+seed[1]\n",
    "        z[i]=int((f_branch[1]+i)*np.cos(theta))+seed[2]\n",
    "        \n",
    "        index_matrix[int(x[i])+256,int(y[i])+256,int(z[i])]=label\n",
    "    l=len(x)-1\n",
    "    s_branch=[(x[0],y[0],z[0]),(x[l],y[l],z[l])]\n",
    "    \n",
    "\n",
    "\n",
    "    for j in range (0,length_2):\n",
    "        x1[j]=int((f_branch[1]+j)*np.sin(theta)*np.cos(phi_2))+seed[0]\n",
    "        y1[j]=int((f_branch[1]+j)*np.sin(theta)*np.sin(phi_2))+seed[1]\n",
    "        z1[j]=int((f_branch[1]+j)*np.cos(theta))+seed[2]\n",
    "        \n",
    "        index_matrix[int(x1[j])+256,int(y1[j])+256,int(z1[j])]=label\n",
    "    l1=length_2-1\n",
    "    s1_branch=[(x1[0],y1[0],z1[0]),(x1[l1],y1[l1],z1[l1])]\n",
    "#     x=np.hstack((x,x1))\n",
    "#     y=np.hstack((y,y1))\n",
    "#     z=np.hstack((z,z1))\n",
    "    radius=radius_factor*f_branch[1]\n",
    "#     index_matrix=s_airway_modeling(index_matrix,s_branch,radius)\n",
    "#     index_matrix=s_airway_modeling(index_matrix,s1_branch,radius)\n",
    "    print (radius)\n",
    "    return index_matrix\n",
    "    \n",
    "    "
   ]
  },
  {
   "cell_type": "code",
   "execution_count": 13,
   "metadata": {},
   "outputs": [],
   "source": [
    "def s_airway_modeling(index_matrix,s_branch,radius,num_id=1000):\n",
    "    start=time.time()\n",
    "    P=np.array(s_branch)[0]+[256,256,0]\n",
    "    Q=np.array(s_branch)[1]+[256,256,0]\n",
    "    AB = Q - P;\n",
    "    temp = AB / np.dot(AB,AB);\n",
    "    r=radius\n",
    "\n",
    "\n",
    "    lmin=int(min(P[0],Q[0])-1.2*int(r))\n",
    "    lmax=int(max(P[0],Q[0])+1.2*int(r))\n",
    "    wmin=int(min(P[1],Q[1])-1.2*int(r))\n",
    "    wmax=int(max(P[1],Q[1])+1.2*int(r))\n",
    "    hmin=int(min(P[0],Q[2])-1*int(r))\n",
    "    if hmin<0:\n",
    "        hmin=0\n",
    "    hmax=int(min(P[2],Q[2])+1*int(r)+1)\n",
    "    \n",
    "    x_range = np.sort(np.array([P[0], Q[0]]));\n",
    "    y_range = np.sort(np.array([P[1], Q[1]]));\n",
    "    z_range = np.sort(np.array([P[2], Q[2]]));\n",
    "    #for any point on line x^2+y^2+z^2=<r^2\n",
    "    for i in range(lmin,lmax):       \n",
    "        for j in range (wmin,wmax):\n",
    "            for k in range(hmin,hmax):\n",
    "                p = np.array([i, j, k])\n",
    "                AP = p - P;\n",
    "                BP = p - Q\n",
    "                proj_point = P + np.dot(AP,AB) * temp;\n",
    "                distance_s = (proj_point[0] - p[0])**2 + (proj_point[1] - p[1])**2 + (proj_point[2] - p[2])**2;\n",
    "                distance_1_s = (P[0] - p[0])**2 + (P[1] - p[1])**2 + (P[2] - p[2])**2;\n",
    "                distance_2_s = (Q[0] - p[0])**2 + (Q[1] - p[1])**2 + (Q[2] - p[2])**2;\n",
    "\n",
    "#                 if distance_s <=r*r or distance_t1<=r*r or distance_t2<=r*r and index_matrix[i,k,k]==0:\n",
    "                if distance_s <=r*r and index_matrix[i,j,k]==0 and (x_range[0] <= proj_point[0] and proj_point[0] <= x_range[1]) and (\n",
    "                            y_range[0] <= proj_point[1] and proj_point[1] <= y_range[1]) and (\n",
    "                                    z_range[0] <= proj_point[2] and proj_point[2] <= z_range[1]) or distance_1_s<=r*r or distance_2_s<=r*r:\n",
    "                    if index_mat[i,j,k]==0:\n",
    "                \n",
    "                        index_mat[i,j,k]=num_id\n",
    "\n",
    "                \n",
    "    end=time.time()\n",
    "    print (end-start,\"s\")\n",
    "    return index_matrix#,xx,yy,zz\n"
   ]
  },
  {
   "cell_type": "code",
   "execution_count": 14,
   "metadata": {},
   "outputs": [],
   "source": [
    "#main_branch_generation(seed,index_matrix,branch,label=100,vanish=1,bifurcate=1)\n",
    "#trachea\n",
    "index_mat,trachea_end,x_t,y_t,z_t,theta_t=main_branch_generation(seed,index_mat,trachea)\n",
    "#rmb\n",
    "index_mat,rm_end,x_rm,y_rm,z_rm,theta_rm=main_branch_generation(trachea_end,index_mat,rm,trachea)\n",
    "#rul\n",
    "index_mat,ru_end,x_ru,y_ru,z_ru,theta_ru=main_branch_generation(rm_end,index_mat,ru,rm)\n",
    "#bronlnt\n",
    "index_mat,br_end,x_br,y_br,z_br,theta_br=main_branch_generation(rm_end,index_mat,br,rm)\n",
    "#rb4+5\n",
    "index_mat,r45_end,x_r45,y_r45,z_r45,theta_r45=main_branch_generation(br_end,index_mat,r45,br)\n",
    "#rb6\n",
    "index_mat,r6_end,x_r6,y_r6,z_r6,theta_r6=main_branch_generation(br_end,index_mat,r6,br)\n",
    "#rll7\n",
    "index_mat,rl7_end,x_rl7,y_rl7,z_rl7,theta_rl7=main_branch_generation(br_end,index_mat,rl7,br)\n",
    "#rb7(future needs a vanish factor)\n",
    "index_mat,r7_end,x_r7,y_r7,z_r7,theta_r7=main_branch_generation(rl7_end,index_mat,r7,rl7)\n",
    "#rll\n",
    "index_mat,rl_end,x_rl,y_rl,z_rl,theta_rl=main_branch_generation(rl7_end,index_mat,rl7)\n",
    "#rb8(needs bifurcation factor)\n",
    "index_mat,r8_end,x_r8,y_r8,z_r8,theta_r8=main_branch_generation(rl_end,index_mat,r8,rl)\n",
    "#rb9+10(needs a vanish factor)\n",
    "index_mat,r910_end,x_r910,y_r910,z_r910,theta_r90=main_branch_generation(rl_end,index_mat,r910,rl)\n",
    "#rb9\n",
    "index_mat,r9_end,x_r9,y_r9,z_r9,theta_r9=main_branch_generation(r910_end,index_mat,r9,r910)\n",
    "#rb10\n",
    "index_mat,r10_end,x_r10,y_r10,z_r10,theta_r10=main_branch_generation(r910_end,index_mat,r10,r910)\n",
    "#rb1\n",
    "index_mat,r1_end,x_r1,y_r1,z_r1,theta_r1=main_branch_generation(ru_end,index_mat,r1,ru)\n",
    "#rb2\n",
    "index_mat,r2_end,x_r2,y_r2,z_r2,theta_r2=main_branch_generation(ru_end,index_mat,r2,ru)\n",
    "#rb3\n",
    "index_mat,r3_end,x_r3,y_r3,z_r3,theta_r3=main_branch_generation(ru_end,index_mat,r3,ru)\n",
    "#rb4\n",
    "index_mat,r4_end,x_r4,y_r4,z_r4,theta_r4=main_branch_generation(r45_end,index_mat,r4,r45)\n",
    "#rb5\n",
    "index_mat,r5_end,x_r5,y_r5,z_r5,theta_r5=main_branch_generation(r45_end,index_mat,r5,r45)"
   ]
  },
  {
   "cell_type": "code",
   "execution_count": 15,
   "metadata": {},
   "outputs": [
    {
     "data": {
      "text/plain": [
       "array([15.29573808, 13.37037784, -0.19198622,  2.60054059])"
      ]
     },
     "execution_count": 15,
     "metadata": {},
     "output_type": "execute_result"
    }
   ],
   "source": [
    "lu"
   ]
  },
  {
   "cell_type": "code",
   "execution_count": 16,
   "metadata": {},
   "outputs": [],
   "source": [
    "#lmb\n",
    "index_mat,lm_end,x_lm,y_lm,z_lm,theta_lm=main_branch_generation(trachea_end,index_mat,lm,trachea)\n",
    "#lul\n",
    "index_mat,lu_end,x_lu,y_lu,z_lu,theta_lu=main_branch_generation(lm_end,index_mat,lu,lm)\n",
    "#llb6\n",
    "index_mat,ll6_end,x_ll6,y_ll6,z_ll6,theta_ll6=main_branch_generation(lm_end,index_mat,ll6,lm)\n",
    "#lb6\n",
    "index_mat,l6_end,x_l6,y_l6,z_l6,theta_l6=main_branch_generation(ll6_end,index_mat,l6,ll6)\n",
    "#llb\n",
    "index_mat,ll_end,x_ll,y_ll,z_ll,theta_ll=main_branch_generation(ll6_end,index_mat,ll,ll6)\n",
    "#lb8\n",
    "index_mat,l8_end,x_l8,y_l8,z_l8,theta_l8=main_branch_generation(ll_end,index_mat,l8,ll)\n",
    "#lb9+10\n",
    "index_mat,l910_end,x_l910,y_l910,z_l910,theta_l910=main_branch_generation(ll_end,index_mat,l910,ll)\n",
    "#lb9\n",
    "index_mat,l9_end,x_l9,y_l9,z_l9,theta_l9=main_branch_generation(l910_end,index_mat,l9,l910)\n",
    "#lb10\n",
    "index_mat,l10_end,x_l10,y_l10,z_l10,theta_l10=main_branch_generation(l910_end,index_mat,l10,l910)\n",
    "#lb1+2+3\n",
    "index_mat,l123_end,x_l123,y_l123,z_l123,theta_l123=main_branch_generation(lu_end,index_mat,l123,lu)\n",
    "#lb1+2\n",
    "index_mat,l12_end,x_l12,y_l12,z_l12,theta_l12=main_branch_generation(l123_end,index_mat,l12,l123)\n",
    "#lb3\n",
    "index_mat,l3_end,x_l3,y_l3,z_l3,theta_l3=main_branch_generation(l123_end,index_mat,l3,l123)\n",
    "#lb1\n",
    "index_mat,l1_end,x_l1,y_l1,z_l1,theta_l1=main_branch_generation(l12_end,index_mat,l1,l12)\n",
    "#lb2\n",
    "index_mat,l2_end,x_l2,y_l2,z_l2,theta_l2=main_branch_generation(l12_end,index_mat,l2,l12)\n",
    "#lb4+5\n",
    "index_mat,l45_end,x_l45,y_l45,z_l45,theta_l45=main_branch_generation(lu_end,index_mat,l45,lu)\n",
    "#lb4\n",
    "index_mat,l4_end,x_l4,y_l4,z_l4,theta_l4=main_branch_generation(l45_end,index_mat,l4,l45)\n",
    "#lb5\n",
    "index_mat,l5_end,x_l5,y_l5,z_l5,theta_l5=main_branch_generation(l45_end,index_mat,l5,l45)"
   ]
  },
  {
   "cell_type": "code",
   "execution_count": 17,
   "metadata": {},
   "outputs": [],
   "source": [
    "from mpl_toolkits.mplot3d import Axes3D"
   ]
  },
  {
   "cell_type": "code",
   "execution_count": 18,
   "metadata": {},
   "outputs": [
    {
     "data": {
      "text/plain": [
       "[-200, 200, -200, 200]"
      ]
     },
     "execution_count": 18,
     "metadata": {},
     "output_type": "execute_result"
    },
    {
     "data": {
      "image/png": "[encoded data removed]",
      "text/plain": [
       "<Figure size 432x288 with 1 Axes>"
      ]
     },
     "metadata": {
      "needs_background": "light"
     },
     "output_type": "display_data"
    }
   ],
   "source": [
    "fig = plt.figure()\n",
    "ax = fig.gca(projection='3d')\n",
    "\n",
    "ax.plot(x_t,y_t,-z_t)\n",
    "ax.plot(x_rm,y_rm,-z_rm)\n",
    "ax.plot(x_lm,y_lm,-z_lm)\n",
    "ax.plot(x_ru,y_ru,-z_ru)\n",
    "ax.plot(x_lu,y_lu,-z_lu)\n",
    "ax.plot(x_br,y_br,-z_br)\n",
    "ax.plot(x_r45,y_r45,-z_r45)\n",
    "ax.plot(x_r6,y_r6,-z_r6)\n",
    "ax.plot(x_rl7,y_rl7,-z_rl7)\n",
    "ax.plot(x_r7,y_r7,-z_r7)\n",
    "ax.plot(x_rl,y_rl,-z_rl)\n",
    "ax.plot(x_r8,y_r8,-z_r8)\n",
    "ax.plot(x_r910,y_r910,-z_r910)\n",
    "ax.plot(x_ll6,y_ll6,-z_ll6)\n",
    "ax.plot(x_r9,y_r9,-z_r9)\n",
    "ax.plot(x_r10,y_r10,-z_r10)\n",
    "ax.plot(x_ll,y_ll,-z_ll)\n",
    "ax.plot(x_l6,y_l6,-z_l6)\n",
    "ax.plot(x_l8,y_l8,-z_l8)\n",
    "ax.plot(x_l910,y_l910,-z_l910)\n",
    "ax.plot(x_l9,y_l9,-z_l9)\n",
    "ax.plot(x_l10,y_l10,-z_l10)\n",
    "ax.plot(x_r1,y_r1,-z_r1)\n",
    "ax.plot(x_r2,y_r2,-z_r2)\n",
    "ax.plot(x_r3,y_r3,-z_r3)\n",
    "ax.plot(x_l123,y_l123,-z_l123)\n",
    "ax.plot(x_l12,y_l12,-z_l12)\n",
    "ax.plot(x_l3,y_l3,-z_l3)\n",
    "ax.plot(x_l1,y_l1,-z_l1)\n",
    "ax.plot(x_l2,y_l2,-z_l2)\n",
    "ax.plot(x_l45,y_l45,-z_l45)\n",
    "ax.plot(x_l4,y_l4,-z_l4)\n",
    "ax.plot(x_l5,y_l5,-z_l5)\n",
    "ax.plot(x_r4,y_r4,-z_r4)\n",
    "ax.plot(x_r5,y_r5,-z_r5)\n",
    "ax.axis([-200,200,-200,200])"
   ]
  },
  {
   "cell_type": "markdown",
   "metadata": {},
   "source": [
    "##### z_t"
   ]
  },
  {
   "cell_type": "code",
   "execution_count": 19,
   "metadata": {},
   "outputs": [],
   "source": [
    "plt.close('all')"
   ]
  },
  {
   "cell_type": "code",
   "execution_count": 20,
   "metadata": {},
   "outputs": [],
   "source": [
    "## airway_modeling\n",
    "def airway_modeling(index_matrix,x,y,z,end,branch,num_id):\n",
    "    start=time.time()\n",
    "    P=[x[0]+256,y[0]+256,z[0]]\n",
    "    Q=end+[256,256,0]\n",
    "    AB = Q - P;\n",
    "    temp = AB / np.dot(AB,AB);\n",
    "    r=branch[1]\n",
    "    xx=[]\n",
    "    yy=[]\n",
    "    zz=[]\n",
    "    l=index_matrix.shape[0]   #save memory\n",
    "    w=index_matrix.shape[1]\n",
    "    h=index_matrix.shape[2]\n",
    "    lmin=int(min(x)+256-1.2*int(r))\n",
    "    lmax=int(max(x)+256+1.2*int(r))\n",
    "    wmin=int(min(y)+256-1.2*int(r))\n",
    "    wmax=int(max(y)+256+1.2*int(r))\n",
    "    hmin=int(min(z)-1*int(r))\n",
    "    if hmin<0:\n",
    "        hmin=0\n",
    "    hmax=int(max(z)+1*int(r)+1)\n",
    "    m=len(x)\n",
    "    x_range = np.sort(np.array([P[0], Q[0]]));\n",
    "    y_range = np.sort(np.array([P[1], Q[1]]));\n",
    "    z_range = np.sort(np.array([P[2], Q[2]]));\n",
    "    #for any point on line x^2+y^2+z^2=<r^2\n",
    "    for i in range(lmin,lmax):       \n",
    "        for j in range (wmin,wmax):\n",
    "            for k in range(hmin,hmax):\n",
    "                p = np.array([i, j, k])\n",
    "                AP = p - P;\n",
    "                BP = p - Q\n",
    "                proj_point = P + np.dot(AP,AB) * temp;\n",
    "                distance_s = (proj_point[0] - p[0])**2 + (proj_point[1] - p[1])**2 + (proj_point[2] - p[2])**2;\n",
    "                distance_1_s = (P[0] - p[0])**2 + (P[1] - p[1])**2 + (P[2] - p[2])**2;\n",
    "                distance_2_s = (Q[0] - p[0])**2 + (Q[1] - p[1])**2 + (Q[2] - p[2])**2;\n",
    "#                 distance_t1= AP[0]**2+AP[1]**2+AP[2]**2\n",
    "#                 distance_t2= BP[0]**2+BP[1]**2+BP[2]**2\n",
    "\n",
    "#                 if distance_s <=r*r or distance_t1<=r*r or distance_t2<=r*r and index_matrix[i,k,k]==0:\n",
    "                if distance_s <=r*r and index_matrix[i,j,k]==0 and (x_range[0] <= proj_point[0] and proj_point[0] <= x_range[1]) and (\n",
    "                            y_range[0] <= proj_point[1] and proj_point[1] <= y_range[1]) and (\n",
    "                                    z_range[0] <= proj_point[2] and proj_point[2] <= z_range[1]) or distance_1_s<=r*r or distance_2_s<=r*r:\n",
    "                    if index_mat[i,j,k]==0:\n",
    "                \n",
    "                        index_mat[i,j,k]=num_id\n",
    "#                     if not((x_range[0] <= proj_point[0] and proj_point[0] <= x_range[1]) and (y_range[0] <= proj_point[1] and proj_point[1] <= y_range[1]) and (z_range[0] <= proj_point[2] and proj_point[2] <= z_range[1])):\n",
    "                    \n",
    "#                     continue\n",
    "                    \n",
    "#                     if distance_2_s < r * r:\n",
    "#                         index_mat[i, j, k] = 200;\n",
    "#                         continue\n",
    "#                 else:\n",
    "#                         # projected_point with in the line segment\n",
    "#                     index_mat[i, j, k] = 50\n",
    "#                     continue\n",
    "#                         xx.append(i-256)\n",
    "#                         yy.append(j-256)\n",
    "#                         zz.append(k)\n",
    "                \n",
    "    end=time.time()\n",
    "    print (end-start,\"s\")\n",
    "    return index_matrix#,xx,yy,zz\n",
    "\n",
    "                    "
   ]
  },
  {
   "cell_type": "code",
   "execution_count": null,
   "metadata": {},
   "outputs": [],
   "source": []
  },
  {
   "cell_type": "markdown",
   "metadata": {},
   "source": [
    "#check airway matrix\n",
    "index_mat,xx_t,yy_t,zz_t=airway_modeling(index_mat,x_t,y_t,z_t,21.2,2.6,1)#trachea\n",
    "\n",
    "                "
   ]
  },
  {
   "cell_type": "code",
   "execution_count": 21,
   "metadata": {},
   "outputs": [
    {
     "name": "stdout",
     "output_type": "stream",
     "text": [
      "19.50801992416382 s\n",
      "4.386499643325806 s\n",
      "0.9146795272827148 s\n",
      "1.9170613288879395 s\n",
      "0.25235557556152344 s\n",
      "0.11369085311889648 s\n",
      "0.3487999439239502 s\n",
      "0.2627749443054199 s\n",
      "0.16868066787719727 s\n",
      "0.22912263870239258 s\n",
      "0.35710620880126953 s\n",
      "0.07753539085388184 s\n",
      "0.024581432342529297 s\n",
      "0.0953676700592041 s\n",
      "0.2279367446899414 s\n",
      "0.13712334632873535 s\n",
      "0.3063218593597412 s\n",
      "0.2626175880432129 s\n",
      "4.088552713394165 s\n",
      "0.3253788948059082 s\n",
      "0.16775298118591309 s\n",
      "0.9814083576202393 s\n",
      "0.2165694236755371 s\n",
      "0.2968888282775879 s\n",
      "0.09689784049987793 s\n",
      "0.13913846015930176 s\n",
      "0.10732388496398926 s\n",
      "0.17105722427368164 s\n",
      "0.18845272064208984 s\n",
      "0.17542052268981934 s\n",
      "0.14259743690490723 s\n",
      "0.16921019554138184 s\n",
      "1.2696959972381592 s\n",
      "0.19762730598449707 s\n",
      "0.24454641342163086 s\n"
     ]
    }
   ],
   "source": [
    "index_mat=airway_modeling(index_mat,x_t,y_t,z_t,trachea_end,trachea,20)\n",
    "index_mat=airway_modeling(index_mat,x_rm,y_rm,z_rm,rm_end,rm,40)\n",
    "index_mat=airway_modeling(index_mat,x_ru,y_ru,z_ru,ru_end,ru,60)\n",
    "index_mat=airway_modeling(index_mat,x_br,y_br,z_br,br_end,br,80)\n",
    "index_mat=airway_modeling(index_mat,x_r45,y_r45,z_r45,r45_end,r45,100)\n",
    "index_mat=airway_modeling(index_mat,x_r6,y_r6,z_r6,r6_end,r6,120)\n",
    "index_mat=airway_modeling(index_mat,x_rl7,y_rl7,z_rl7,rl7_end,rl7,140)\n",
    "index_mat=airway_modeling(index_mat,x_rl,y_rl,z_rl,rl_end,rl,160)\n",
    "index_mat=airway_modeling(index_mat,x_r910,y_r910,z_r910,r910_end,r910,180)\n",
    "index_mat=airway_modeling(index_mat,x_r8,y_r8,z_r8,r8_end,r8,200)\n",
    "index_mat=airway_modeling(index_mat,x_r9,y_r9,z_r9,r9_end,r9,220)\n",
    "index_mat=airway_modeling(index_mat,x_r10,y_r10,z_r10,r10_end,r10,240)\n",
    "index_mat=airway_modeling(index_mat,x_r4,y_r4,z_r4,r4_end,r4,260)\n",
    "index_mat=airway_modeling(index_mat,x_r5,y_r5,z_r5,r5_end,r5,280)\n",
    "index_mat=airway_modeling(index_mat,x_r7,y_r7,z_r7,r7_end,r7,300)\n",
    "index_mat=airway_modeling(index_mat,x_r1,y_r1,z_r1,r1_end,r8,320)\n",
    "index_mat=airway_modeling(index_mat,x_r2,y_r2,z_r2,r2_end,r2,340)\n",
    "index_mat=airway_modeling(index_mat,x_r3,y_r3,z_r3,r3_end,r3,360)\n",
    "index_mat=airway_modeling(index_mat,x_lm,y_lm,z_lm,lm_end,lm,380)\n",
    "index_mat=airway_modeling(index_mat,x_ll6,y_ll6,z_ll6,ll6_end,ll6,400)\n",
    "index_mat=airway_modeling(index_mat,x_l6,y_l6,z_l6,l6_end,l6,420)\n",
    "index_mat=airway_modeling(index_mat,x_ll,y_ll,z_ll,ll_end,ll,440)\n",
    "index_mat=airway_modeling(index_mat,x_l8,y_l8,z_l8,l8_end,l8,460)\n",
    "index_mat=airway_modeling(index_mat,x_l910,y_l910,z_l910,l910_end,l910,480)\n",
    "index_mat=airway_modeling(index_mat,x_l123,y_l123,z_l123,l123_end,l123,500)\n",
    "index_mat=airway_modeling(index_mat,x_l12,y_l12,z_l12,l12_end,l12,520)\n",
    "index_mat=airway_modeling(index_mat,x_l1,y_l1,z_l1,l1_end,l1,540)\n",
    "index_mat=airway_modeling(index_mat,x_l2,y_l2,z_l2,l2_end,l2,560)\n",
    "index_mat=airway_modeling(index_mat,x_l3,y_l3,z_l3,l3_end,l3,580)\n",
    "index_mat=airway_modeling(index_mat,x_l45,y_l45,z_l45,l45_end,l45,600)\n",
    "index_mat=airway_modeling(index_mat,x_l4,y_l4,z_l4,l4_end,l4,620)\n",
    "index_mat=airway_modeling(index_mat,x_l5,y_l5,z_l5,l5_end,l5,640)\n",
    "index_mat=airway_modeling(index_mat,x_lu,y_lu,z_lu,lu_end,lu,660)\n",
    "index_mat=airway_modeling(index_mat,x_l9,y_l9,z_l9,l9_end,l9,680)\n",
    "index_mat=airway_modeling(index_mat,x_l10,y_l10,z_l10,l10_end,l10,700)"
   ]
  },
  {
   "cell_type": "code",
   "execution_count": 22,
   "metadata": {},
   "outputs": [
    {
     "name": "stdout",
     "output_type": "stream",
     "text": [
      "5.708883552143613\n",
      "4.819360548950712\n",
      "3.262445763802322\n",
      "2.1807989613583136\n",
      "2.7008135272514604\n",
      "2.937834019280412\n",
      "3.070468313986055\n",
      "3.3041725182804145\n",
      "3.776739569688178\n",
      "3.516580509875479\n"
     ]
    }
   ],
   "source": [
    "index_mat=s_branch_generation(index_mat,r1,r1_end)\n",
    "index_mat=s_branch_generation(index_mat,r2,r2_end)\n",
    "index_mat=s_branch_generation(index_mat,r3,r3_end)\n",
    "index_mat=s_branch_generation(index_mat,r4,r4_end)\n",
    "index_mat=s_branch_generation(index_mat,r5,r5_end)\n",
    "index_mat=s_branch_generation(index_mat,r6,r6_end)\n",
    "index_mat=s_branch_generation(index_mat,r7,r7_end)\n",
    "index_mat=s_branch_generation(index_mat,r8,r8_end)\n",
    "index_mat=s_branch_generation(index_mat,r9,r9_end)\n",
    "index_mat=s_branch_generation(index_mat,r10,r10_end)"
   ]
  },
  {
   "cell_type": "code",
   "execution_count": 23,
   "metadata": {},
   "outputs": [],
   "source": [
    "mat=np.array(index_mat,dtype=\"f\")"
   ]
  },
  {
   "cell_type": "code",
   "execution_count": 24,
   "metadata": {},
   "outputs": [],
   "source": [
    "image=itk.GetImageFromArray(mat)"
   ]
  },
  {
   "cell_type": "code",
   "execution_count": 25,
   "metadata": {},
   "outputs": [],
   "source": [
    "image.SetSpacing([0.5,0.5,0.5])"
   ]
  },
  {
   "cell_type": "code",
   "execution_count": 26,
   "metadata": {},
   "outputs": [
    {
     "data": {
      "application/vnd.jupyter.widget-view+json": {
       "model_id": "18de79f6236b40beb23967429a9e26bb",
       "version_major": 2,
       "version_minor": 0
      },
      "text/plain": [
       "Viewer(gradient_opacity=0.22, rendered_image=<itkImagePython.itkImageF3; proxy of <Swig Object of type 'itkIma…"
      ]
     },
     "metadata": {},
     "output_type": "display_data"
    }
   ],
   "source": [
    "view(image)"
   ]
  },
  {
   "cell_type": "code",
   "execution_count": null,
   "metadata": {},
   "outputs": [],
   "source": [
    "# ImageType = itk.Image[itk.F, 3]\n",
    "# WriterType = itk.ImageFileWriter[ImageType]\n",
    "# writer = WriterType.New()\n",
    "# writer.SetFileName('outputImage.nii.gz')\n",
    "# writer.SetInput(image)\n",
    "\n",
    "# writer.Update()"
   ]
  },
  {
   "cell_type": "code",
   "execution_count": null,
   "metadata": {},
   "outputs": [],
   "source": [
    "inputImage=itk.imread('outputImage.nii.gz',itk.F)"
   ]
  },
  {
   "cell_type": "code",
   "execution_count": null,
   "metadata": {},
   "outputs": [],
   "source": [
    "view(inputImage)"
   ]
  },
  {
   "cell_type": "code",
   "execution_count": null,
   "metadata": {},
   "outputs": [],
   "source": [
    "r3"
   ]
  },
  {
   "cell_type": "code",
   "execution_count": null,
   "metadata": {},
   "outputs": [],
   "source": [
    "r2"
   ]
  },
  {
   "cell_type": "code",
   "execution_count": null,
   "metadata": {},
   "outputs": [],
   "source": []
  }
 ],
 "metadata": {
  "kernelspec": {
   "display_name": "Python 3",
   "language": "python",
   "name": "python3"
  },
  "language_info": {
   "codemirror_mode": {
    "name": "ipython",
    "version": 3
   },
   "file_extension": ".py",
   "mimetype": "text/x-python",
   "name": "python",
   "nbconvert_exporter": "python",
   "pygments_lexer": "ipython3",
   "version": "3.7.3"
  }
 },
 "nbformat": 4,
 "nbformat_minor": 2
}
