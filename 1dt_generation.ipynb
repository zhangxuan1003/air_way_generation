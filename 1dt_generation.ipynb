{
 "cells": [
  {
   "cell_type": "code",
   "execution_count": 21,
   "metadata": {},
   "outputs": [],
   "source": [
    "import matplotlib.pyplot as plt\n",
    "import numpy as np\n",
    "%matplotlib widget\n",
    "import time"
   ]
  },
  {
   "cell_type": "markdown",
   "metadata": {},
   "source": [
    "need to exchange y and x coordinates"
   ]
  },
  {
   "cell_type": "code",
   "execution_count": 4,
   "metadata": {},
   "outputs": [],
   "source": [
    "# generating image matrix\n",
    "def index_matrix():\n",
    "    index_matrix=np.zeros((512,512,768))\n",
    "    return index_matrix\n",
    "    "
   ]
  },
  {
   "cell_type": "code",
   "execution_count": 5,
   "metadata": {},
   "outputs": [],
   "source": [
    "#find out origins"
   ]
  },
  {
   "cell_type": "code",
   "execution_count": 6,
   "metadata": {},
   "outputs": [],
   "source": [
    "def seed_generation():\n",
    "    #set starting seed at trechea\n",
    "    mu = 6 #\n",
    "    sigma = 2 \n",
    "    rand_pos = np.random.normal(mu, sigma, 3)\n",
    "    seed=np.array([int(rand_pos[0]),int(rand_pos[1]),30])\n",
    "    return seed"
   ]
  },
  {
   "cell_type": "code",
   "execution_count": 7,
   "metadata": {},
   "outputs": [],
   "source": [
    "index_mat=index_matrix()"
   ]
  },
  {
   "cell_type": "code",
   "execution_count": 8,
   "metadata": {},
   "outputs": [],
   "source": [
    "seed=seed_generation()"
   ]
  },
  {
   "cell_type": "code",
   "execution_count": 33,
   "metadata": {},
   "outputs": [],
   "source": [
    "def main_branch_generation(seed,index_matrix,rho,sig,phi_min,phi_max,theta_min,theta_max,label,vanish=1,bifurcate=1):\n",
    "    length=int(np.random.normal(rho,sig,1))\n",
    "    if length<0:\n",
    "        length=1\n",
    "    phi=np.random.randint(phi_min,phi_max)/180*np.pi\n",
    "    theta=np.random.randint(theta_min,theta_max)/180*np.pi\n",
    "    x=np.zeros((length))\n",
    "    y=np.zeros((length))\n",
    "    z=np.zeros((length))\n",
    "    x1=x\n",
    "    y1=y\n",
    "    z1=z\n",
    "    line=np.zeros((length))\n",
    "    line1=line\n",
    "    prob_v=np.random.binomial(1,vanish,1)[0]\n",
    "    prob_b=np.random.binomial(1,bifurcate,1)[0]\n",
    "    for i in range (0,length):\n",
    "        x[i]=int(i*np.sin(theta)*np.cos(phi))+seed[0]\n",
    "        y[i]=int(i*np.sin(theta)*np.sin(phi))+seed[1]\n",
    "        z[i]=int(i*np.cos(theta))+seed[2]\n",
    "        line[i]=label\n",
    "        index_matrix[int(x[i])+256,int(y[i])+256,int(z[i])]=line[i]\n",
    "        if prob_v==0:\n",
    "            index_matrix[int(x[i])+256,int(y[i])+256,int(z[i])]=0\n",
    "    end=len(x)-1\n",
    "    end=np.array([x[end],y[end],z[end]])\n",
    "    if prob_v==0:\n",
    "        end=seed\n",
    "    if prob_b==0:\n",
    "        theta1=theta+np.random.randint(15,30)/180*np.pi\n",
    "        for j in range (0,length):\n",
    "            x1[j]=int(j*np.sin(theta1)*np.cos(phi))+seed[0]\n",
    "            y1[j]=int(j*np.sin(theta1)*np.sin(phi))+seed[1]\n",
    "            z1[j]=int(j*np.cos(theta1))+seed[2]\n",
    "            line1[j]=label\n",
    "            index_matrix[int(x1[j])+256,int(y1[j])+256,int(z1[j])]=line1[j]\n",
    "        x=np.hstack((x,x1))\n",
    "        y=np.hstack((y,y1))\n",
    "        z=np.hstack((z,z1))\n",
    "    return index_matrix,end,x,y,z,theta"
   ]
  },
  {
   "cell_type": "code",
   "execution_count": 34,
   "metadata": {},
   "outputs": [],
   "source": [
    "#trechea\n",
    "index_mat,trechea_end,x_t,y_t,z_t,theta_t=main_branch_generation(seed,index_mat,218,28,-180,180,0,5,1)\n",
    "#rmb\n",
    "index_mat,rm_end,x_rm,y_rm,z_rm,theta_rm=main_branch_generation(trechea_end,index_mat,51,5,175,195,30,45,3)\n",
    "#rul\n",
    "index_mat,ru_end,x_ru,y_ru,z_ru,theta_ru=main_branch_generation(rm_end,index_mat,30,8,180,210,135,150,5)\n",
    "#bronlnt\n",
    "index_mat,br_end,x_br,y_br,z_br,theta_br=main_branch_generation(rm_end,index_mat,58,6,175,195,30,45,7)\n",
    "#rb4+5\n",
    "index_mat,r45_end,x_r45,y_r45,z_r45,theta_r45=main_branch_generation(br_end,index_mat,38,8,180,225,60,90,9)\n",
    "#rb6\n",
    "index_mat,r6_end,x_r6,y_r6,z_r6,theta_r6=main_branch_generation(br_end,index_mat,20,6,105,145,60,90,11)\n",
    "#rll7\n",
    "index_mat,rl7_end,x_rl7,y_rl7,z_rl7,theta_rl7=main_branch_generation(br_end,index_mat,21,6.5,175,195,20,40,13)\n",
    "#rb7(future needs a vanish factor)\n",
    "index_mat,r7_end,x_r7,y_r7,z_r7,theta_r7=main_branch_generation(rl7_end,index_mat,32,10,-105,-30,30,45,15,0.8)\n",
    "#rll\n",
    "index_mat,rl_end,x_rl,y_rl,z_rl,theta_rl=main_branch_generation(rl7_end,index_mat,20,8,175,195,20,40,17)\n",
    "#rb8(needs bifurcation factor)\n",
    "index_mat,r8_end,x_r8,y_r8,z_r8,theta_r8=main_branch_generation(rl_end,index_mat,25,3,195,255,45,60,19)\n",
    "#rb9+10(needs a vanish factor)\n",
    "index_mat,r910_end,x_r910,y_r910,z_r910,theta_r90=main_branch_generation(rl_end,index_mat,22,7,175,195,20,40,17)\n",
    "#rb9\n",
    "index_mat,r9_end,x_r9,y_r9,z_r9,theta_r9=main_branch_generation(r910_end,index_mat,30,7,175,195,20,45,19)\n",
    "#rb10\n",
    "index_mat,r10_end,x_r10,y_r10,z_r10,theta_r10=main_branch_generation(r910_end,index_mat,26,7,-30,30,0,45,21)\n",
    "#rb1\n",
    "index_mat,r1_end,x_r1,y_r1,z_r1,theta_r1=main_branch_generation(ru_end,index_mat,26,7,-90,180,150,180,23)\n",
    "#rb2\n",
    "index_mat,r2_end,x_r2,y_r2,z_r2,theta_r2=main_branch_generation(ru_end,index_mat,22,6,90,180,75,120,25,0.5)\n",
    "#rb3\n",
    "index_mat,r3_end,x_r3,y_r3,z_r3,theta_r3=main_branch_generation(ru_end,index_mat,24,7.5,90,270,30,60,27)\n",
    "#rb4\n",
    "index_mat,r4_end,x_r4,y_r4,z_r4,theta_r4=main_branch_generation(r45_end,index_mat,25,8,150,180,60,90,29)\n",
    "#rb5\n",
    "index_mat,r5_end,x_r5,y_r5,z_r5,theta_r5=main_branch_generation(r45_end,index_mat,28,8,195,225,60,90,29)\n",
    "\n",
    "#lmb\n",
    "index_mat,lm_end,x_lm,y_lm,z_lm,theta_lm=main_branch_generation(trechea_end,index_mat,100,10,-15,5,30,45,2)\n",
    "#lul\n",
    "index_mat,lu_end,x_lu,y_lu,z_lu,theta_lu=main_branch_generation(lm_end,index_mat,26,6,-45,0,135,150,4)\n",
    "#llb6\n",
    "index_mat,ll6_end,x_ll6,y_ll6,z_ll6,theta_ll6=main_branch_generation(lm_end,index_mat,25,5,-15,5,30,45,6)\n",
    "#lb6\n",
    "index_mat,l6_end,x_l6,y_l6,z_l6,theta_l6=main_branch_generation(ll6_end,index_mat,20,5.6,55,105,50,90,8)\n",
    "#llb\n",
    "index_mat,ll_end,x_ll,y_ll,z_ll,theta_ll=main_branch_generation(ll6_end,index_mat,34,8,-15,5,30,45,10)\n",
    "#lb8\n",
    "index_mat,l8_end,x_l8,y_l8,z_l8,theta_l8=main_branch_generation(ll_end,index_mat,25,8,-75,5,45,60,12,1,0)\n",
    "#lb9+10\n",
    "index_mat,l910_end,x_l910,y_l910,z_l910,theta_l910=main_branch_generation(ll_end,index_mat,20,6,-25,5,15,45,14,0.8)\n",
    "#lb9\n",
    "index_mat,l9_end,x_l9,y_l9,z_l9,theta_l9=main_branch_generation(l910_end,index_mat,30,9.5,-35,0,10,45,16)\n",
    "#lb10\n",
    "index_mat,l10_end,x_l10,y_l10,z_l10,theta_l10=main_branch_generation(l910_end,index_mat,30,9.5,5,25,10,45,18)\n",
    "#lb1+2+3\n",
    "index_mat,l123_end,x_l123,y_l123,z_l123,theta_l123=main_branch_generation(lu_end,index_mat,23,6,-90,90,160,180,20)\n",
    "#lb1+2\n",
    "index_mat,l12_end,x_l12,y_l12,z_l12,theta_l12=main_branch_generation(l123_end,index_mat,22,7,120,240,120,180,24,0.5)\n",
    "#lb3\n",
    "index_mat,l3_end,x_l3,y_l3,z_l3,theta_l3=main_branch_generation(l123_end,index_mat,20,6,-60,60,120,150,26)\n",
    "#lb1\n",
    "index_mat,l1_end,x_l1,y_l1,z_l1,theta_l1=main_branch_generation(l12_end,index_mat,26,7,90,150,150,180,28,0.5)\n",
    "#lb2\n",
    "index_mat,l2_end,x_l2,y_l2,z_l2,theta_l2=main_branch_generation(l12_end,index_mat,25,6,150,210,150,180,30,0.5)\n",
    "#lb4+5\n",
    "index_mat,l45_end,x_l45,y_l45,z_l45,theta_l45=main_branch_generation(lu_end,index_mat,28,10,-15,30,75,90,32)\n",
    "#lb4\n",
    "index_mat,l4_end,x_l4,y_l4,z_l4,theta_l4=main_branch_generation(l45_end,index_mat,25,10,-15,30,60,75,34)\n",
    "#lb5\n",
    "index_mat,l5_end,x_l5,y_l5,z_l5,theta_l5=main_branch_generation(l45_end,index_mat,25,10,-15,30,45,60,36)"
   ]
  },
  {
   "cell_type": "code",
   "execution_count": 35,
   "metadata": {},
   "outputs": [
    {
     "data": {
      "text/plain": [
       "24"
      ]
     },
     "execution_count": 35,
     "metadata": {},
     "output_type": "execute_result"
    }
   ],
   "source": []
  },
  {
   "cell_type": "code",
   "execution_count": 36,
   "metadata": {},
   "outputs": [],
   "source": [
    "from mpl_toolkits.mplot3d import Axes3D"
   ]
  },
  {
   "cell_type": "code",
   "execution_count": 37,
   "metadata": {},
   "outputs": [
    {
     "data": {
      "application/vnd.jupyter.widget-view+json": {
       "model_id": "",
       "version_major": 2,
       "version_minor": 0
      },
      "text/plain": [
       "FigureCanvasNbAgg()"
      ]
     },
     "metadata": {},
     "output_type": "display_data"
    },
    {
     "data": {
      "text/plain": [
       "[-140, 140, -140, 140]"
      ]
     },
     "execution_count": 37,
     "metadata": {},
     "output_type": "execute_result"
    }
   ],
   "source": [
    "# fig = plt.figure()\n",
    "# ax = fig.gca(projection='3d')\n",
    "\n",
    "# ax.plot(x_t,y_t,-z_t)\n",
    "# ax.plot(x_rm,y_rm,-z_rm)\n",
    "# ax.plot(x_lm,y_lm,-z_lm)\n",
    "# ax.plot(x_ru,y_ru,-z_ru)\n",
    "# ax.plot(x_lu,y_lu,-z_lu)\n",
    "# ax.plot(x_br,y_br,-z_br)\n",
    "# ax.plot(x_r45,y_r45,-z_r45)\n",
    "# ax.plot(x_r6,y_r6,-z_r6)\n",
    "# ax.plot(x_rl7,y_rl7,-z_rl7)\n",
    "# ax.plot(x_r7,y_r7,-z_r7)\n",
    "# ax.plot(x_rl,y_rl,-z_rl)\n",
    "# ax.plot(x_r8,y_r8,-z_r8)\n",
    "# ax.plot(x_r910,y_r910,-z_r910)\n",
    "# ax.plot(x_ll6,y_ll6,-z_ll6)\n",
    "# ax.plot(x_r9,y_r9,-z_r9)\n",
    "# ax.plot(x_r10,y_r10,-z_r10)\n",
    "# ax.plot(x_ll,y_ll,-z_ll)\n",
    "# ax.plot(x_l6,y_l6,-z_l6)\n",
    "# ax.plot(x_l8,y_l8,-z_l8)\n",
    "# ax.plot(x_l910,y_l910,-z_l910)\n",
    "# ax.plot(x_l9,y_l9,-z_l9)\n",
    "# ax.plot(x_l10,y_l10,-z_l10)\n",
    "# ax.plot(x_r1,y_r1,-z_r1)\n",
    "# ax.plot(x_r2,y_r2,-z_r2)\n",
    "# ax.plot(x_r3,y_r3,-z_r3)\n",
    "# ax.plot(x_l123,y_l123,-z_l123)\n",
    "# ax.plot(x_l12,y_l12,-z_l12)\n",
    "# ax.plot(x_l3,y_l3,-z_l3)\n",
    "# ax.plot(x_l1,y_l1,-z_l1)\n",
    "# ax.plot(x_l2,y_l2,-z_l2)\n",
    "# ax.plot(x_l45,y_l45,-z_l45)\n",
    "# ax.plot(x_l4,y_l4,-z_l4)\n",
    "# ax.plot(x_l5,y_l5,-z_l5)\n",
    "# ax.plot(x_r4,y_r4,-z_r4)\n",
    "# ax.plot(x_r5,y_r5,-z_r5)\n",
    "# ax.axis([-140,140,-140,140])\n"
   ]
  },
  {
   "cell_type": "markdown",
   "metadata": {},
   "source": [
    "##### z_t"
   ]
  },
  {
   "cell_type": "code",
   "execution_count": 38,
   "metadata": {},
   "outputs": [],
   "source": [
    "plt.close('all')"
   ]
  },
  {
   "cell_type": "code",
   "execution_count": 84,
   "metadata": {},
   "outputs": [],
   "source": [
    "## airway_modeling\n",
    "def airway_modeling(index_matrix,x,y,z,end,r_avg,r_std,num_id):\n",
    "    start=time.time()\n",
    "    P=[x[0]+256,y[0]+256,z[0]]#### this is the point in the matrix\n",
    "    Q=np.array([end[0]+256,end[1]+256,end[2]])\n",
    "    AB = Q - P;\n",
    "    temp = AB / np.dot(AB,AB);\n",
    "    r=np.random.normal(r_avg,r_std,1)\n",
    "    xx=[]\n",
    "    yy=[]\n",
    "    zz=[]\n",
    "    l=index_matrix.shape[0]   #save memory\n",
    "    w=index_matrix.shape[1]\n",
    "    h=index_matrix.shape[2]\n",
    "    lmin=int(min(x)+256-int(r))\n",
    "    lmax=int(max(x)+256+int(r))\n",
    "    wmin=int(min(y)+256-int(r))\n",
    "    wmax=int(max(y)+256+int(r))\n",
    "    hmin=int(min(z)-int(r))\n",
    "    hmax=int(max(z)+int(r)+1)\n",
    "    \n",
    "    \n",
    "    #for any point on line x^2+y^2+z^2=<r^2\n",
    "    for i in range(lmin,lmax):       \n",
    "        for j in range (wmin,wmax):\n",
    "            for k in range(hmin,hmax):\n",
    "                p = np.array([i, j, k])\n",
    "                AP = p - P;\n",
    "                proj_point = P + np.dot(AP,AB) * temp;\n",
    "                distance_s = (proj_point[0] - p[0])**2 + (proj_point[1] - p[1])**2 + (proj_point[2] - p[2])**2;\n",
    "                \n",
    "\n",
    "                if distance_s <=r*r and index_matrix[i,k,k]==0:\n",
    "                        index_mat[i,j,k]=num_id\n",
    "                        xx.append(i-256)\n",
    "                        yy.append(j-256)\n",
    "                        zz.append(k)\n",
    "                        print (distance_s)\n",
    "    end=time.time()\n",
    "    print (end-start,\"s\")\n",
    "    return index_matrix,xx,yy,zz\n",
    "\n",
    "                    "
   ]
  },
  {
   "cell_type": "markdown",
   "metadata": {},
   "source": [
    "#check airway matrix\n",
    "index_mat,xx_t,yy_t,zz_t=airway_modeling(index_mat,x_t,y_t,z_t,21.2,2.6,1)#trachea\n",
    "\n",
    "                "
   ]
  },
  {
   "cell_type": "code",
   "execution_count": null,
   "metadata": {},
   "outputs": [],
   "source": [
    "index_mat,xx_t,yy_t,zz_t=airway_modeling(index_mat,x_t,y_t,z_t,trechea_end,8,2,0)"
   ]
  },
  {
   "cell_type": "code",
   "execution_count": 89,
   "metadata": {},
   "outputs": [
    {
     "data": {
      "application/vnd.jupyter.widget-view+json": {
       "model_id": "cc2dc53520c24df7a9d6c922d80dd7a6",
       "version_major": 2,
       "version_minor": 0
      },
      "text/plain": [
       "FigureCanvasNbAgg()"
      ]
     },
     "metadata": {},
     "output_type": "display_data"
    },
    {
     "data": {
      "text/plain": [
       "[<mpl_toolkits.mplot3d.art3d.Line3D at 0x287815b76d8>]"
      ]
     },
     "execution_count": 89,
     "metadata": {},
     "output_type": "execute_result"
    }
   ],
   "source": [
    "# fig = plt.figure()\n",
    "# ax = fig.gca(projection='3d')\n",
    "# ax.plot(xx_t,yy_t,zz_t,',')\n"
   ]
  },
  {
   "cell_type": "code",
   "execution_count": 81,
   "metadata": {},
   "outputs": [
    {
     "data": {
      "text/plain": [
       "array([ -4.,   5., 259.])"
      ]
     },
     "execution_count": 81,
     "metadata": {},
     "output_type": "execute_result"
    }
   ],
   "source": [
    "[trechea_end[0],trechea_end[1],trechea_end[2]]-np.array([6,8,30])"
   ]
  },
  {
   "cell_type": "code",
   "execution_count": 63,
   "metadata": {},
   "outputs": [
    {
     "data": {
      "text/plain": [
       "279"
      ]
     },
     "execution_count": 63,
     "metadata": {},
     "output_type": "execute_result"
    }
   ],
   "source": [
    "np.amax(zz_t)"
   ]
  },
  {
   "cell_type": "code",
   "execution_count": 65,
   "metadata": {},
   "outputs": [
    {
     "data": {
      "text/plain": [
       "array([5])"
      ]
     },
     "execution_count": 65,
     "metadata": {},
     "output_type": "execute_result"
    }
   ],
   "source": [
    "np.dot([(2,1)],[(2),(1)])"
   ]
  },
  {
   "cell_type": "code",
   "execution_count": 73,
   "metadata": {},
   "outputs": [
    {
     "data": {
      "text/plain": [
       "[2, 1, 256, 0]"
      ]
     },
     "execution_count": 73,
     "metadata": {},
     "output_type": "execute_result"
    }
   ],
   "source": [
    "[2,1]+[256,0]"
   ]
  },
  {
   "cell_type": "code",
   "execution_count": null,
   "metadata": {},
   "outputs": [],
   "source": []
  }
 ],
 "metadata": {
  "kernelspec": {
   "display_name": "Python 3",
   "language": "python",
   "name": "python3"
  },
  "language_info": {
   "codemirror_mode": {
    "name": "ipython",
    "version": 3
   },
   "file_extension": ".py",
   "mimetype": "text/x-python",
   "name": "python",
   "nbconvert_exporter": "python",
   "pygments_lexer": "ipython3",
   "version": "3.6.8"
  }
 },
 "nbformat": 4,
 "nbformat_minor": 2
}
